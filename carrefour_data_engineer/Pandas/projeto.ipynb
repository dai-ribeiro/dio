{
 "cells": [
  {
   "cell_type": "code",
   "execution_count": 1,
   "id": "1ae3e5fc",
   "metadata": {},
   "outputs": [],
   "source": [
    "import pandas as pd\n",
    "import matplotlib.pyplot as plt\n",
    "pd.options.display.float_format = '{:20,.2f}'.format"
   ]
  },
  {
   "cell_type": "code",
   "execution_count": 2,
   "id": "301932df",
   "metadata": {},
   "outputs": [
    {
     "data": {
      "text/html": [
       "<div>\n",
       "<style scoped>\n",
       "    .dataframe tbody tr th:only-of-type {\n",
       "        vertical-align: middle;\n",
       "    }\n",
       "\n",
       "    .dataframe tbody tr th {\n",
       "        vertical-align: top;\n",
       "    }\n",
       "\n",
       "    .dataframe thead th {\n",
       "        text-align: right;\n",
       "    }\n",
       "</style>\n",
       "<table border=\"1\" class=\"dataframe\">\n",
       "  <thead>\n",
       "    <tr style=\"text-align: right;\">\n",
       "      <th></th>\n",
       "      <th>Data Venda</th>\n",
       "      <th>Data Envio</th>\n",
       "      <th>ID Loja</th>\n",
       "      <th>ID Produto</th>\n",
       "      <th>ID Cliente</th>\n",
       "      <th>No. Venda</th>\n",
       "      <th>Custo Unitário</th>\n",
       "      <th>Preço Unitário</th>\n",
       "      <th>Quantidade</th>\n",
       "      <th>Valor Desconto</th>\n",
       "      <th>Valor Venda</th>\n",
       "      <th>Produto</th>\n",
       "      <th>Fabricante</th>\n",
       "      <th>Marca</th>\n",
       "      <th>Classe</th>\n",
       "      <th>Cor</th>\n",
       "    </tr>\n",
       "  </thead>\n",
       "  <tbody>\n",
       "    <tr>\n",
       "      <th>0</th>\n",
       "      <td>2008-05-09</td>\n",
       "      <td>2008-05-29</td>\n",
       "      <td>199</td>\n",
       "      <td>384</td>\n",
       "      <td>18839</td>\n",
       "      <td>200805093CS607</td>\n",
       "      <td>348.58</td>\n",
       "      <td>758.00</td>\n",
       "      <td>6</td>\n",
       "      <td>0.00</td>\n",
       "      <td>4,548.00</td>\n",
       "      <td>Adventure Works Laptop15.4W M1548 Red</td>\n",
       "      <td>Adventure Works</td>\n",
       "      <td>Adventure Works</td>\n",
       "      <td>Regular</td>\n",
       "      <td>Red</td>\n",
       "    </tr>\n",
       "    <tr>\n",
       "      <th>1</th>\n",
       "      <td>2008-05-12</td>\n",
       "      <td>2008-05-17</td>\n",
       "      <td>306</td>\n",
       "      <td>384</td>\n",
       "      <td>19051</td>\n",
       "      <td>200805123CS567</td>\n",
       "      <td>348.58</td>\n",
       "      <td>758.00</td>\n",
       "      <td>6</td>\n",
       "      <td>0.00</td>\n",
       "      <td>4,548.00</td>\n",
       "      <td>Adventure Works Laptop15.4W M1548 Red</td>\n",
       "      <td>Adventure Works</td>\n",
       "      <td>Adventure Works</td>\n",
       "      <td>Regular</td>\n",
       "      <td>Red</td>\n",
       "    </tr>\n",
       "    <tr>\n",
       "      <th>2</th>\n",
       "      <td>2008-05-14</td>\n",
       "      <td>2008-05-20</td>\n",
       "      <td>306</td>\n",
       "      <td>384</td>\n",
       "      <td>19052</td>\n",
       "      <td>200805143CS576</td>\n",
       "      <td>348.58</td>\n",
       "      <td>758.00</td>\n",
       "      <td>6</td>\n",
       "      <td>0.00</td>\n",
       "      <td>4,548.00</td>\n",
       "      <td>Adventure Works Laptop15.4W M1548 Red</td>\n",
       "      <td>Adventure Works</td>\n",
       "      <td>Adventure Works</td>\n",
       "      <td>Regular</td>\n",
       "      <td>Red</td>\n",
       "    </tr>\n",
       "    <tr>\n",
       "      <th>3</th>\n",
       "      <td>2008-05-21</td>\n",
       "      <td>2008-05-27</td>\n",
       "      <td>306</td>\n",
       "      <td>384</td>\n",
       "      <td>19052</td>\n",
       "      <td>200805213CS576</td>\n",
       "      <td>348.58</td>\n",
       "      <td>758.00</td>\n",
       "      <td>6</td>\n",
       "      <td>0.00</td>\n",
       "      <td>4,548.00</td>\n",
       "      <td>Adventure Works Laptop15.4W M1548 Red</td>\n",
       "      <td>Adventure Works</td>\n",
       "      <td>Adventure Works</td>\n",
       "      <td>Regular</td>\n",
       "      <td>Red</td>\n",
       "    </tr>\n",
       "    <tr>\n",
       "      <th>4</th>\n",
       "      <td>2008-06-20</td>\n",
       "      <td>2008-06-27</td>\n",
       "      <td>306</td>\n",
       "      <td>384</td>\n",
       "      <td>19053</td>\n",
       "      <td>200806203CS586</td>\n",
       "      <td>348.58</td>\n",
       "      <td>758.00</td>\n",
       "      <td>6</td>\n",
       "      <td>0.00</td>\n",
       "      <td>4,548.00</td>\n",
       "      <td>Adventure Works Laptop15.4W M1548 Red</td>\n",
       "      <td>Adventure Works</td>\n",
       "      <td>Adventure Works</td>\n",
       "      <td>Regular</td>\n",
       "      <td>Red</td>\n",
       "    </tr>\n",
       "  </tbody>\n",
       "</table>\n",
       "</div>"
      ],
      "text/plain": [
       "  Data Venda Data Envio  ID Loja  ID Produto  ID Cliente       No. Venda  \\\n",
       "0 2008-05-09 2008-05-29      199         384       18839  200805093CS607   \n",
       "1 2008-05-12 2008-05-17      306         384       19051  200805123CS567   \n",
       "2 2008-05-14 2008-05-20      306         384       19052  200805143CS576   \n",
       "3 2008-05-21 2008-05-27      306         384       19052  200805213CS576   \n",
       "4 2008-06-20 2008-06-27      306         384       19053  200806203CS586   \n",
       "\n",
       "        Custo Unitário       Preço Unitário  Quantidade       Valor Desconto  \\\n",
       "0               348.58               758.00           6                 0.00   \n",
       "1               348.58               758.00           6                 0.00   \n",
       "2               348.58               758.00           6                 0.00   \n",
       "3               348.58               758.00           6                 0.00   \n",
       "4               348.58               758.00           6                 0.00   \n",
       "\n",
       "           Valor Venda                                Produto  \\\n",
       "0             4,548.00  Adventure Works Laptop15.4W M1548 Red   \n",
       "1             4,548.00  Adventure Works Laptop15.4W M1548 Red   \n",
       "2             4,548.00  Adventure Works Laptop15.4W M1548 Red   \n",
       "3             4,548.00  Adventure Works Laptop15.4W M1548 Red   \n",
       "4             4,548.00  Adventure Works Laptop15.4W M1548 Red   \n",
       "\n",
       "        Fabricante            Marca   Classe  Cor  \n",
       "0  Adventure Works  Adventure Works  Regular  Red  \n",
       "1  Adventure Works  Adventure Works  Regular  Red  \n",
       "2  Adventure Works  Adventure Works  Regular  Red  \n",
       "3  Adventure Works  Adventure Works  Regular  Red  \n",
       "4  Adventure Works  Adventure Works  Regular  Red  "
      ]
     },
     "execution_count": 2,
     "metadata": {},
     "output_type": "execute_result"
    }
   ],
   "source": [
    "df = pd.read_excel('AdventureWorks.xlsx')\n",
    "df.head()"
   ]
  },
  {
   "cell_type": "code",
   "execution_count": 3,
   "id": "6986d6f0",
   "metadata": {},
   "outputs": [
    {
     "data": {
      "text/plain": [
       "Data Venda        datetime64[ns]\n",
       "Data Envio        datetime64[ns]\n",
       "ID Loja                    int64\n",
       "ID Produto                 int64\n",
       "ID Cliente                 int64\n",
       "No. Venda                 object\n",
       "Custo Unitário           float64\n",
       "Preço Unitário           float64\n",
       "Quantidade                 int64\n",
       "Valor Desconto           float64\n",
       "Valor Venda              float64\n",
       "Produto                   object\n",
       "Fabricante                object\n",
       "Marca                     object\n",
       "Classe                    object\n",
       "Cor                       object\n",
       "dtype: object"
      ]
     },
     "execution_count": 3,
     "metadata": {},
     "output_type": "execute_result"
    }
   ],
   "source": [
    "df.dtypes"
   ]
  },
  {
   "cell_type": "code",
   "execution_count": 4,
   "id": "9f8213a1",
   "metadata": {},
   "outputs": [
    {
     "data": {
      "text/plain": [
       "159.84"
      ]
     },
     "execution_count": 4,
     "metadata": {},
     "output_type": "execute_result"
    }
   ],
   "source": [
    "#  menor valor de venda\n",
    "\n",
    "df['Valor Venda'].min()"
   ]
  },
  {
   "cell_type": "code",
   "execution_count": 5,
   "id": "4a8a1fe4",
   "metadata": {},
   "outputs": [
    {
     "data": {
      "text/plain": [
       "29400.0"
      ]
     },
     "execution_count": 5,
     "metadata": {},
     "output_type": "execute_result"
    }
   ],
   "source": [
    "#  maior valor de venda\n",
    "\n",
    "df['Valor Venda'].max()"
   ]
  },
  {
   "cell_type": "code",
   "execution_count": 6,
   "id": "0bb2f250",
   "metadata": {},
   "outputs": [
    {
     "data": {
      "text/plain": [
       "6620.139538274336"
      ]
     },
     "execution_count": 6,
     "metadata": {},
     "output_type": "execute_result"
    }
   ],
   "source": [
    "#  valor médio de venda\n",
    "\n",
    "df['Valor Venda'].mean()"
   ]
  },
  {
   "cell_type": "code",
   "execution_count": 7,
   "id": "4868ed71",
   "metadata": {},
   "outputs": [
    {
     "data": {
      "text/html": [
       "<div>\n",
       "<style scoped>\n",
       "    .dataframe tbody tr th:only-of-type {\n",
       "        vertical-align: middle;\n",
       "    }\n",
       "\n",
       "    .dataframe tbody tr th {\n",
       "        vertical-align: top;\n",
       "    }\n",
       "\n",
       "    .dataframe thead th {\n",
       "        text-align: right;\n",
       "    }\n",
       "</style>\n",
       "<table border=\"1\" class=\"dataframe\">\n",
       "  <thead>\n",
       "    <tr style=\"text-align: right;\">\n",
       "      <th></th>\n",
       "      <th>Data Venda</th>\n",
       "      <th>Data Envio</th>\n",
       "      <th>ID Loja</th>\n",
       "      <th>ID Produto</th>\n",
       "      <th>ID Cliente</th>\n",
       "      <th>No. Venda</th>\n",
       "      <th>Custo Unitário</th>\n",
       "      <th>Preço Unitário</th>\n",
       "      <th>Quantidade</th>\n",
       "      <th>Valor Desconto</th>\n",
       "      <th>Valor Venda</th>\n",
       "      <th>Produto</th>\n",
       "      <th>Fabricante</th>\n",
       "      <th>Marca</th>\n",
       "      <th>Classe</th>\n",
       "      <th>Cor</th>\n",
       "    </tr>\n",
       "  </thead>\n",
       "  <tbody>\n",
       "    <tr>\n",
       "      <th>286</th>\n",
       "      <td>2008-10-01</td>\n",
       "      <td>2008-10-11</td>\n",
       "      <td>199</td>\n",
       "      <td>2497</td>\n",
       "      <td>18876</td>\n",
       "      <td>200810015CS707</td>\n",
       "      <td>5.09</td>\n",
       "      <td>9.99</td>\n",
       "      <td>16</td>\n",
       "      <td>0.00</td>\n",
       "      <td>159.84</td>\n",
       "      <td>Headphone Adapter for Contoso Phone E130 White</td>\n",
       "      <td>Contoso, Ltd</td>\n",
       "      <td>Contoso</td>\n",
       "      <td>Economy</td>\n",
       "      <td>White</td>\n",
       "    </tr>\n",
       "    <tr>\n",
       "      <th>686</th>\n",
       "      <td>2008-08-17</td>\n",
       "      <td>2008-08-26</td>\n",
       "      <td>306</td>\n",
       "      <td>2496</td>\n",
       "      <td>19055</td>\n",
       "      <td>200808175CS608</td>\n",
       "      <td>5.09</td>\n",
       "      <td>9.99</td>\n",
       "      <td>37</td>\n",
       "      <td>36.96</td>\n",
       "      <td>332.67</td>\n",
       "      <td>Headphone Adapter for Contoso Phone E130 Silver</td>\n",
       "      <td>Contoso, Ltd</td>\n",
       "      <td>Contoso</td>\n",
       "      <td>Economy</td>\n",
       "      <td>Silver</td>\n",
       "    </tr>\n",
       "    <tr>\n",
       "      <th>738</th>\n",
       "      <td>2009-12-25</td>\n",
       "      <td>2010-01-01</td>\n",
       "      <td>199</td>\n",
       "      <td>2496</td>\n",
       "      <td>19033</td>\n",
       "      <td>200912255CS949</td>\n",
       "      <td>5.09</td>\n",
       "      <td>9.99</td>\n",
       "      <td>44</td>\n",
       "      <td>87.91</td>\n",
       "      <td>351.65</td>\n",
       "      <td>Headphone Adapter for Contoso Phone E130 Silver</td>\n",
       "      <td>Contoso, Ltd</td>\n",
       "      <td>Contoso</td>\n",
       "      <td>Economy</td>\n",
       "      <td>Silver</td>\n",
       "    </tr>\n",
       "    <tr>\n",
       "      <th>290</th>\n",
       "      <td>2009-10-18</td>\n",
       "      <td>2009-10-26</td>\n",
       "      <td>199</td>\n",
       "      <td>2497</td>\n",
       "      <td>19004</td>\n",
       "      <td>200910185CS919</td>\n",
       "      <td>5.09</td>\n",
       "      <td>9.99</td>\n",
       "      <td>48</td>\n",
       "      <td>0.00</td>\n",
       "      <td>479.52</td>\n",
       "      <td>Headphone Adapter for Contoso Phone E130 White</td>\n",
       "      <td>Contoso, Ltd</td>\n",
       "      <td>Contoso</td>\n",
       "      <td>Economy</td>\n",
       "      <td>White</td>\n",
       "    </tr>\n",
       "    <tr>\n",
       "      <th>734</th>\n",
       "      <td>2009-12-01</td>\n",
       "      <td>2009-12-07</td>\n",
       "      <td>199</td>\n",
       "      <td>2496</td>\n",
       "      <td>19022</td>\n",
       "      <td>200912015CS937</td>\n",
       "      <td>5.09</td>\n",
       "      <td>9.99</td>\n",
       "      <td>74</td>\n",
       "      <td>147.85</td>\n",
       "      <td>591.41</td>\n",
       "      <td>Headphone Adapter for Contoso Phone E130 Silver</td>\n",
       "      <td>Contoso, Ltd</td>\n",
       "      <td>Contoso</td>\n",
       "      <td>Economy</td>\n",
       "      <td>Silver</td>\n",
       "    </tr>\n",
       "  </tbody>\n",
       "</table>\n",
       "</div>"
      ],
      "text/plain": [
       "    Data Venda Data Envio  ID Loja  ID Produto  ID Cliente       No. Venda  \\\n",
       "286 2008-10-01 2008-10-11      199        2497       18876  200810015CS707   \n",
       "686 2008-08-17 2008-08-26      306        2496       19055  200808175CS608   \n",
       "738 2009-12-25 2010-01-01      199        2496       19033  200912255CS949   \n",
       "290 2009-10-18 2009-10-26      199        2497       19004  200910185CS919   \n",
       "734 2009-12-01 2009-12-07      199        2496       19022  200912015CS937   \n",
       "\n",
       "          Custo Unitário       Preço Unitário  Quantidade  \\\n",
       "286                 5.09                 9.99          16   \n",
       "686                 5.09                 9.99          37   \n",
       "738                 5.09                 9.99          44   \n",
       "290                 5.09                 9.99          48   \n",
       "734                 5.09                 9.99          74   \n",
       "\n",
       "          Valor Desconto          Valor Venda  \\\n",
       "286                 0.00               159.84   \n",
       "686                36.96               332.67   \n",
       "738                87.91               351.65   \n",
       "290                 0.00               479.52   \n",
       "734               147.85               591.41   \n",
       "\n",
       "                                             Produto    Fabricante    Marca  \\\n",
       "286   Headphone Adapter for Contoso Phone E130 White  Contoso, Ltd  Contoso   \n",
       "686  Headphone Adapter for Contoso Phone E130 Silver  Contoso, Ltd  Contoso   \n",
       "738  Headphone Adapter for Contoso Phone E130 Silver  Contoso, Ltd  Contoso   \n",
       "290   Headphone Adapter for Contoso Phone E130 White  Contoso, Ltd  Contoso   \n",
       "734  Headphone Adapter for Contoso Phone E130 Silver  Contoso, Ltd  Contoso   \n",
       "\n",
       "      Classe     Cor  \n",
       "286  Economy   White  \n",
       "686  Economy  Silver  \n",
       "738  Economy  Silver  \n",
       "290  Economy   White  \n",
       "734  Economy  Silver  "
      ]
     },
     "execution_count": 7,
     "metadata": {},
     "output_type": "execute_result"
    }
   ],
   "source": [
    "# 5 linhas com os menores valores de venda\n",
    "\n",
    "df.nsmallest(5, 'Valor Venda')"
   ]
  },
  {
   "cell_type": "code",
   "execution_count": 8,
   "id": "dd418f91",
   "metadata": {},
   "outputs": [
    {
     "data": {
      "text/html": [
       "<div>\n",
       "<style scoped>\n",
       "    .dataframe tbody tr th:only-of-type {\n",
       "        vertical-align: middle;\n",
       "    }\n",
       "\n",
       "    .dataframe tbody tr th {\n",
       "        vertical-align: top;\n",
       "    }\n",
       "\n",
       "    .dataframe thead th {\n",
       "        text-align: right;\n",
       "    }\n",
       "</style>\n",
       "<table border=\"1\" class=\"dataframe\">\n",
       "  <thead>\n",
       "    <tr style=\"text-align: right;\">\n",
       "      <th></th>\n",
       "      <th>Data Venda</th>\n",
       "      <th>Data Envio</th>\n",
       "      <th>ID Loja</th>\n",
       "      <th>ID Produto</th>\n",
       "      <th>ID Cliente</th>\n",
       "      <th>No. Venda</th>\n",
       "      <th>Custo Unitário</th>\n",
       "      <th>Preço Unitário</th>\n",
       "      <th>Quantidade</th>\n",
       "      <th>Valor Desconto</th>\n",
       "      <th>Valor Venda</th>\n",
       "      <th>Produto</th>\n",
       "      <th>Fabricante</th>\n",
       "      <th>Marca</th>\n",
       "      <th>Classe</th>\n",
       "      <th>Cor</th>\n",
       "    </tr>\n",
       "  </thead>\n",
       "  <tbody>\n",
       "    <tr>\n",
       "      <th>236</th>\n",
       "      <td>2008-04-13</td>\n",
       "      <td>2008-04-19</td>\n",
       "      <td>199</td>\n",
       "      <td>1155</td>\n",
       "      <td>18832</td>\n",
       "      <td>200804134CS600</td>\n",
       "      <td>324.69</td>\n",
       "      <td>980.00</td>\n",
       "      <td>30</td>\n",
       "      <td>0.00</td>\n",
       "      <td>29,400.00</td>\n",
       "      <td>Fabrikam Trendsetter 2/3'' 17mm X100 Black</td>\n",
       "      <td>Fabrikam, Inc.</td>\n",
       "      <td>Fabrikam</td>\n",
       "      <td>Regular</td>\n",
       "      <td>Black</td>\n",
       "    </tr>\n",
       "    <tr>\n",
       "      <th>493</th>\n",
       "      <td>2008-07-22</td>\n",
       "      <td>2008-08-01</td>\n",
       "      <td>199</td>\n",
       "      <td>1226</td>\n",
       "      <td>18856</td>\n",
       "      <td>200807224CS645</td>\n",
       "      <td>330.99</td>\n",
       "      <td>999.00</td>\n",
       "      <td>28</td>\n",
       "      <td>2,797.20</td>\n",
       "      <td>25,174.80</td>\n",
       "      <td>Fabrikam Trendsetter 1/3'' 8.5mm X200 Black</td>\n",
       "      <td>Fabrikam, Inc.</td>\n",
       "      <td>Fabrikam</td>\n",
       "      <td>Regular</td>\n",
       "      <td>Black</td>\n",
       "    </tr>\n",
       "    <tr>\n",
       "      <th>339</th>\n",
       "      <td>2008-12-16</td>\n",
       "      <td>2008-12-27</td>\n",
       "      <td>199</td>\n",
       "      <td>1203</td>\n",
       "      <td>18897</td>\n",
       "      <td>200812164CS805</td>\n",
       "      <td>324.69</td>\n",
       "      <td>980.00</td>\n",
       "      <td>32</td>\n",
       "      <td>6,272.00</td>\n",
       "      <td>25,088.00</td>\n",
       "      <td>Fabrikam Trendsetter 2/3'' 17mm X100 Grey</td>\n",
       "      <td>Fabrikam, Inc.</td>\n",
       "      <td>Fabrikam</td>\n",
       "      <td>Regular</td>\n",
       "      <td>Grey</td>\n",
       "    </tr>\n",
       "    <tr>\n",
       "      <th>234</th>\n",
       "      <td>2008-05-02</td>\n",
       "      <td>2008-05-13</td>\n",
       "      <td>199</td>\n",
       "      <td>1226</td>\n",
       "      <td>18837</td>\n",
       "      <td>200805024CS605</td>\n",
       "      <td>330.99</td>\n",
       "      <td>999.00</td>\n",
       "      <td>24</td>\n",
       "      <td>0.00</td>\n",
       "      <td>23,976.00</td>\n",
       "      <td>Fabrikam Trendsetter 1/3'' 8.5mm X200 Black</td>\n",
       "      <td>Fabrikam, Inc.</td>\n",
       "      <td>Fabrikam</td>\n",
       "      <td>Regular</td>\n",
       "      <td>Black</td>\n",
       "    </tr>\n",
       "    <tr>\n",
       "      <th>235</th>\n",
       "      <td>2008-06-22</td>\n",
       "      <td>2008-06-29</td>\n",
       "      <td>306</td>\n",
       "      <td>1226</td>\n",
       "      <td>19053</td>\n",
       "      <td>200806224CS586</td>\n",
       "      <td>330.99</td>\n",
       "      <td>999.00</td>\n",
       "      <td>24</td>\n",
       "      <td>0.00</td>\n",
       "      <td>23,976.00</td>\n",
       "      <td>Fabrikam Trendsetter 1/3'' 8.5mm X200 Black</td>\n",
       "      <td>Fabrikam, Inc.</td>\n",
       "      <td>Fabrikam</td>\n",
       "      <td>Regular</td>\n",
       "      <td>Black</td>\n",
       "    </tr>\n",
       "  </tbody>\n",
       "</table>\n",
       "</div>"
      ],
      "text/plain": [
       "    Data Venda Data Envio  ID Loja  ID Produto  ID Cliente       No. Venda  \\\n",
       "236 2008-04-13 2008-04-19      199        1155       18832  200804134CS600   \n",
       "493 2008-07-22 2008-08-01      199        1226       18856  200807224CS645   \n",
       "339 2008-12-16 2008-12-27      199        1203       18897  200812164CS805   \n",
       "234 2008-05-02 2008-05-13      199        1226       18837  200805024CS605   \n",
       "235 2008-06-22 2008-06-29      306        1226       19053  200806224CS586   \n",
       "\n",
       "          Custo Unitário       Preço Unitário  Quantidade  \\\n",
       "236               324.69               980.00          30   \n",
       "493               330.99               999.00          28   \n",
       "339               324.69               980.00          32   \n",
       "234               330.99               999.00          24   \n",
       "235               330.99               999.00          24   \n",
       "\n",
       "          Valor Desconto          Valor Venda  \\\n",
       "236                 0.00            29,400.00   \n",
       "493             2,797.20            25,174.80   \n",
       "339             6,272.00            25,088.00   \n",
       "234                 0.00            23,976.00   \n",
       "235                 0.00            23,976.00   \n",
       "\n",
       "                                         Produto      Fabricante     Marca  \\\n",
       "236   Fabrikam Trendsetter 2/3'' 17mm X100 Black  Fabrikam, Inc.  Fabrikam   \n",
       "493  Fabrikam Trendsetter 1/3'' 8.5mm X200 Black  Fabrikam, Inc.  Fabrikam   \n",
       "339    Fabrikam Trendsetter 2/3'' 17mm X100 Grey  Fabrikam, Inc.  Fabrikam   \n",
       "234  Fabrikam Trendsetter 1/3'' 8.5mm X200 Black  Fabrikam, Inc.  Fabrikam   \n",
       "235  Fabrikam Trendsetter 1/3'' 8.5mm X200 Black  Fabrikam, Inc.  Fabrikam   \n",
       "\n",
       "      Classe    Cor  \n",
       "236  Regular  Black  \n",
       "493  Regular  Black  \n",
       "339  Regular   Grey  \n",
       "234  Regular  Black  \n",
       "235  Regular  Black  "
      ]
     },
     "execution_count": 8,
     "metadata": {},
     "output_type": "execute_result"
    }
   ],
   "source": [
    "# 5 linhas com os maiores valores de venda\n",
    "\n",
    "df.nlargest(5, 'Valor Venda')"
   ]
  },
  {
   "cell_type": "code",
   "execution_count": 9,
   "id": "341d2038",
   "metadata": {},
   "outputs": [
    {
     "data": {
      "text/plain": [
       "6272.0"
      ]
     },
     "execution_count": 9,
     "metadata": {},
     "output_type": "execute_result"
    }
   ],
   "source": [
    "#  maior valor de desconto de venda\n",
    "\n",
    "df['Valor Desconto'].max()"
   ]
  },
  {
   "cell_type": "code",
   "execution_count": 10,
   "id": "c73d8715",
   "metadata": {},
   "outputs": [
    {
     "data": {
      "text/plain": [
       "Produto\n",
       "Adventure Works Laptop15.4W M1548 Black             1089\n",
       "Adventure Works Laptop15.4W M1548 Red               1047\n",
       "Fabrikam Trendsetter 1/3'' 8.5mm X200 Black          884\n",
       "Fabrikam Trendsetter 1/3'' 8.5mm X200 Grey           845\n",
       "Fabrikam Trendsetter 1/3'' 8.5mm X200 White          789\n",
       "Fabrikam Trendsetter 2/3'' 17mm X100 Black           926\n",
       "Fabrikam Trendsetter 2/3'' 17mm X100 Grey           1087\n",
       "Headphone Adapter for Contoso Phone E130 Silver    25232\n",
       "Headphone Adapter for Contoso Phone E130 White     25008\n",
       "Name: Quantidade, dtype: int64"
      ]
     },
     "execution_count": 10,
     "metadata": {},
     "output_type": "execute_result"
    }
   ],
   "source": [
    "# quantidade de produtos vendidos\n",
    "\n",
    "df.groupby('Produto')['Quantidade'].sum()"
   ]
  },
  {
   "cell_type": "code",
   "execution_count": 11,
   "id": "31cb4667",
   "metadata": {},
   "outputs": [
    {
     "data": {
      "text/plain": [
       "Produto\n",
       "Adventure Works Laptop15.4W M1548 Black                     746,789.18\n",
       "Adventure Works Laptop15.4W M1548 Red                       709,813.94\n",
       "Fabrikam Trendsetter 1/3'' 8.5mm X200 Black                 799,809.39\n",
       "Fabrikam Trendsetter 1/3'' 8.5mm X200 Grey                  781,334.20\n",
       "Fabrikam Trendsetter 1/3'' 8.5mm X200 White                 714,029.08\n",
       "Fabrikam Trendsetter 2/3'' 17mm X100 Black                  821,396.80\n",
       "Fabrikam Trendsetter 2/3'' 17mm X100 Grey                   961,037.00\n",
       "Headphone Adapter for Contoso Phone E130 Silver             226,591.38\n",
       "Headphone Adapter for Contoso Phone E130 White              223,805.17\n",
       "Name: Valor Venda, dtype: float64"
      ]
     },
     "execution_count": 11,
     "metadata": {},
     "output_type": "execute_result"
    }
   ],
   "source": [
    "# valor total da venda de cada produto\n",
    "\n",
    "df.groupby('Produto')['Valor Venda'].sum()"
   ]
  },
  {
   "cell_type": "code",
   "execution_count": 12,
   "id": "c410ccad",
   "metadata": {},
   "outputs": [
    {
     "data": {
      "text/plain": [
       "Data Venda\n",
       "2008           3,187,607.65\n",
       "2009           2,796,998.49\n",
       "Name: Valor Venda, dtype: float64"
      ]
     },
     "execution_count": 12,
     "metadata": {},
     "output_type": "execute_result"
    }
   ],
   "source": [
    "# valor tota de vendas por ano\n",
    "\n",
    "df.groupby(df['Data Venda'].dt.year)['Valor Venda'].sum()\n"
   ]
  },
  {
   "cell_type": "code",
   "execution_count": 13,
   "id": "d82d1f36",
   "metadata": {},
   "outputs": [
    {
     "data": {
      "text/plain": [
       "Black     315\n",
       "Grey      212\n",
       "White     175\n",
       "Red       115\n",
       "Silver     87\n",
       "Name: Cor, dtype: int64"
      ]
     },
     "execution_count": 13,
     "metadata": {},
     "output_type": "execute_result"
    }
   ],
   "source": [
    "# total de produtos vendidos por cor\n",
    "\n",
    "df['Cor'].value_counts()"
   ]
  },
  {
   "cell_type": "code",
   "execution_count": 14,
   "id": "0c2add7c",
   "metadata": {},
   "outputs": [
    {
     "data": {
      "text/plain": [
       "ID Loja\n",
       "199    115\n",
       "306     20\n",
       "307     33\n",
       "Name: ID Cliente, dtype: int64"
      ]
     },
     "execution_count": 14,
     "metadata": {},
     "output_type": "execute_result"
    }
   ],
   "source": [
    "# quantidade de clientes distintos que efetuaram a compra em cada loja\n",
    "\n",
    "df.groupby('ID Loja')['ID Cliente'].nunique()"
   ]
  },
  {
   "cell_type": "code",
   "execution_count": 15,
   "id": "0d63fdd8",
   "metadata": {},
   "outputs": [
    {
     "data": {
      "image/png": "[encoded data removed]",
      "text/plain": [
       "<Figure size 432x288 with 1 Axes>"
      ]
     },
     "metadata": {
      "needs_background": "light"
     },
     "output_type": "display_data"
    }
   ],
   "source": [
    "df['ID Loja'].value_counts().plot.bar(title='Vendas por Loja');\n",
    "plt.xlabel('ID Loja')\n",
    "plt.ylabel('Vendas');\n",
    "plt.xticks(rotation='horizontal');"
   ]
  },
  {
   "cell_type": "code",
   "execution_count": 16,
   "id": "93330764",
   "metadata": {},
   "outputs": [
    {
     "data": {
      "image/png": "[encoded data removed]",
      "text/plain": [
       "<Figure size 432x288 with 1 Axes>"
      ]
     },
     "metadata": {},
     "output_type": "display_data"
    }
   ],
   "source": [
    "df.groupby('ID Loja')['Quantidade'].sum().plot.pie(title='Quantidade de produtos vendidos por loja');"
   ]
  },
  {
   "cell_type": "code",
   "execution_count": 17,
   "id": "8010cbeb",
   "metadata": {},
   "outputs": [
    {
     "data": {
      "image/png": "[encoded data removed]",
      "text/plain": [
       "<Figure size 432x288 with 1 Axes>"
      ]
     },
     "metadata": {
      "needs_background": "light"
     },
     "output_type": "display_data"
    }
   ],
   "source": [
    "df.groupby('Produto')['Quantidade'].sum().sort_values(ascending=False).plot.bar(title='Produtos Vendidos');\n",
    "plt.ylabel('Total');"
   ]
  },
  {
   "cell_type": "code",
   "execution_count": null,
   "id": "fa594579",
   "metadata": {},
   "outputs": [],
   "source": []
  }
 ],
 "metadata": {
  "kernelspec": {
   "display_name": "Python 3 (ipykernel)",
   "language": "python",
   "name": "python3"
  },
  "language_info": {
   "codemirror_mode": {
    "name": "ipython",
    "version": 3
   },
   "file_extension": ".py",
   "mimetype": "text/x-python",
   "name": "python",
   "nbconvert_exporter": "python",
   "pygments_lexer": "ipython3",
   "version": "3.9.4"
  }
 },
 "nbformat": 4,
 "nbformat_minor": 5
}
